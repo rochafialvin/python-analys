{
 "cells": [
  {
   "cell_type": "code",
   "execution_count": 8,
   "metadata": {
    "ExecuteTime": {
     "end_time": "2020-02-20T06:35:38.953001Z",
     "start_time": "2020-02-20T06:35:38.948015Z"
    }
   },
   "outputs": [
    {
     "name": "stdout",
     "output_type": "stream",
     "text": [
      "[1, 2, 3, 4]\n"
     ]
    }
   ],
   "source": [
    "# CTRL + ENTER : Running cell namun tidak berpindah ke cell berikutnya\n",
    "\n",
    "# SHIFT + ENTER : Running cell dan pindah ke cell berikutnya (jika ada)\n",
    "# Jika tidak ada, maka akan bikin cell baru\n",
    "\n",
    "# ALT + ENTER : Running cell dan membuat cell baru setelahnya\n"
   ]
  },
  {
   "cell_type": "markdown",
   "metadata": {
    "ExecuteTime": {
     "end_time": "2020-02-20T06:59:34.484939Z",
     "start_time": "2020-02-20T06:59:34.481981Z"
    }
   },
   "source": [
    "# Numpy Array"
   ]
  },
  {
   "cell_type": "code",
   "execution_count": 2,
   "metadata": {
    "ExecuteTime": {
     "end_time": "2020-02-20T07:17:21.632990Z",
     "start_time": "2020-02-20T07:17:21.462445Z"
    }
   },
   "outputs": [],
   "source": [
    "# Digunakan untuk mengolah sebuah array / list\n",
    "# Array 1 dimensi : Vector --> [1,2,3,4,5,6]\n",
    "# Array 2 dimensi : Matrics --> [[1, 2, 3], ['a', 'b', 'c']]\n",
    "import numpy as np"
   ]
  },
  {
   "cell_type": "code",
   "execution_count": 19,
   "metadata": {
    "ExecuteTime": {
     "end_time": "2020-02-20T07:12:57.730836Z",
     "start_time": "2020-02-20T07:12:57.724832Z"
    }
   },
   "outputs": [
    {
     "name": "stdout",
     "output_type": "stream",
     "text": [
      "[1 2 3 4 5]\n"
     ]
    }
   ],
   "source": [
    "# Mengubah list 1-d menjadi array 1-d (Vector)\n",
    "numbers = [1, 2, 3, 4, 5]\n",
    "arrNumbers = np.array(numbers)\n",
    "print(arrNumbers)"
   ]
  },
  {
   "cell_type": "code",
   "execution_count": 24,
   "metadata": {
    "ExecuteTime": {
     "end_time": "2020-02-20T07:14:08.851915Z",
     "start_time": "2020-02-20T07:14:08.846935Z"
    }
   },
   "outputs": [
    {
     "name": "stdout",
     "output_type": "stream",
     "text": [
      "[[1 2 3]\n",
      " [4 5 6]\n",
      " [7 8 9]]\n"
     ]
    }
   ],
   "source": [
    "# Mengubah list 2-d menjadi array 2-d (Matrics)\n",
    "numbers = [[1,2,3], [4, 5,6], [7,8,9]]\n",
    "arrNumbers = np.array(numbers)\n",
    "print(arrNumbers)"
   ]
  },
  {
   "cell_type": "markdown",
   "metadata": {},
   "source": [
    "> arange"
   ]
  },
  {
   "cell_type": "code",
   "execution_count": 3,
   "metadata": {
    "ExecuteTime": {
     "end_time": "2020-02-20T07:17:24.084778Z",
     "start_time": "2020-02-20T07:17:24.076680Z"
    }
   },
   "outputs": [
    {
     "name": "stdout",
     "output_type": "stream",
     "text": [
      "[0 1 2 3 4 5 6 7 8 9]\n"
     ]
    }
   ],
   "source": [
    "# Membuat sebuah array  0 - 9\n",
    "arrRange = np.arange(10)\n",
    "print(arrRange)"
   ]
  },
  {
   "cell_type": "code",
   "execution_count": 4,
   "metadata": {
    "ExecuteTime": {
     "end_time": "2020-02-20T07:18:17.745848Z",
     "start_time": "2020-02-20T07:18:17.739949Z"
    }
   },
   "outputs": [
    {
     "name": "stdout",
     "output_type": "stream",
     "text": [
      "[ 1  2  3  4  5  6  7  8  9 10]\n"
     ]
    }
   ],
   "source": [
    "# Membuat sebuah array  1 - 10 \n",
    "arrRange = np.arange(1, 11)\n",
    "print(arrRange)"
   ]
  },
  {
   "cell_type": "code",
   "execution_count": 5,
   "metadata": {
    "ExecuteTime": {
     "end_time": "2020-02-20T07:20:27.202143Z",
     "start_time": "2020-02-20T07:20:27.197548Z"
    }
   },
   "outputs": [
    {
     "name": "stdout",
     "output_type": "stream",
     "text": [
      "[ 0  2  4  6  8 10]\n"
     ]
    }
   ],
   "source": [
    "# Membuat sebuah array nilai genap 0 - 10\n",
    "arrRange = np.arange(0,11,2)\n",
    "print(arrRange)"
   ]
  },
  {
   "cell_type": "code",
   "execution_count": 7,
   "metadata": {
    "ExecuteTime": {
     "end_time": "2020-02-20T07:23:35.360813Z",
     "start_time": "2020-02-20T07:23:35.354856Z"
    }
   },
   "outputs": [
    {
     "name": "stdout",
     "output_type": "stream",
     "text": [
      "[10  9  8  7  6  5  4  3  2  1]\n",
      "[10  8  6  4  2]\n"
     ]
    }
   ],
   "source": [
    "arrRange = np.arange(10,0,-1)\n",
    "print(arrRange) # [10  9  8  7  6  5  4  3  2  1]\n",
    "\n",
    "arrRange = np.arange(10,0,-2)\n",
    "print(arrRange) # [10  8  6  4  2]"
   ]
  },
  {
   "cell_type": "markdown",
   "metadata": {},
   "source": [
    "> linspace"
   ]
  },
  {
   "cell_type": "code",
   "execution_count": 10,
   "metadata": {
    "ExecuteTime": {
     "end_time": "2020-02-20T07:27:40.161189Z",
     "start_time": "2020-02-20T07:27:40.157300Z"
    }
   },
   "outputs": [
    {
     "name": "stdout",
     "output_type": "stream",
     "text": [
      "[ 0. 10.]\n"
     ]
    }
   ],
   "source": [
    "# Dari 0 - 10, sebanyak 2 angka\n",
    "arrLin = np.linspace(0,10,2)\n",
    "print(arrLin)"
   ]
  },
  {
   "cell_type": "code",
   "execution_count": 8,
   "metadata": {
    "ExecuteTime": {
     "end_time": "2020-02-20T07:27:05.898051Z",
     "start_time": "2020-02-20T07:27:05.892977Z"
    }
   },
   "outputs": [
    {
     "name": "stdout",
     "output_type": "stream",
     "text": [
      "[ 0.   2.5  5.   7.5 10. ]\n"
     ]
    }
   ],
   "source": [
    "# Dari 0 - 10, sebanyak 5 angka\n",
    "arrLin = np.linspace(0,10,5)\n",
    "print(arrLin)"
   ]
  },
  {
   "cell_type": "code",
   "execution_count": 14,
   "metadata": {
    "ExecuteTime": {
     "end_time": "2020-02-20T07:32:14.490678Z",
     "start_time": "2020-02-20T07:32:14.485662Z"
    }
   },
   "outputs": [
    {
     "name": "stdout",
     "output_type": "stream",
     "text": [
      "[ 1.  2.  3.  4.  5.  6.  7.  8.  9. 10.]\n"
     ]
    }
   ],
   "source": [
    "# Dari 0 - 10, sebanyak 10 angka\n",
    "arrLin = np.linspace(1,10,10)\n",
    "print(arrLin)"
   ]
  },
  {
   "cell_type": "code",
   "execution_count": null,
   "metadata": {},
   "outputs": [],
   "source": []
  },
  {
   "cell_type": "code",
   "execution_count": null,
   "metadata": {},
   "outputs": [],
   "source": []
  },
  {
   "cell_type": "code",
   "execution_count": null,
   "metadata": {},
   "outputs": [],
   "source": []
  },
  {
   "cell_type": "code",
   "execution_count": null,
   "metadata": {},
   "outputs": [],
   "source": []
  },
  {
   "cell_type": "code",
   "execution_count": null,
   "metadata": {},
   "outputs": [],
   "source": []
  },
  {
   "cell_type": "code",
   "execution_count": null,
   "metadata": {},
   "outputs": [],
   "source": []
  }
 ],
 "metadata": {
  "kernelspec": {
   "display_name": "Python 3",
   "language": "python",
   "name": "python3"
  },
  "language_info": {
   "codemirror_mode": {
    "name": "ipython",
    "version": 3
   },
   "file_extension": ".py",
   "mimetype": "text/x-python",
   "name": "python",
   "nbconvert_exporter": "python",
   "pygments_lexer": "ipython3",
   "version": "3.7.4"
  }
 },
 "nbformat": 4,
 "nbformat_minor": 2
}
