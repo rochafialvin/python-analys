{
 "cells": [
  {
   "cell_type": "code",
   "execution_count": 8,
   "metadata": {
    "ExecuteTime": {
     "end_time": "2020-02-20T06:35:38.953001Z",
     "start_time": "2020-02-20T06:35:38.948015Z"
    }
   },
   "outputs": [
    {
     "name": "stdout",
     "output_type": "stream",
     "text": [
      "[1, 2, 3, 4]\n"
     ]
    }
   ],
   "source": [
    "# CTRL + ENTER : Running cell namun tidak berpindah ke cell berikutnya\n",
    "\n",
    "# SHIFT + ENTER : Running cell dan pindah ke cell berikutnya (jika ada)\n",
    "# Jika tidak ada, maka akan bikin cell baru\n",
    "\n",
    "# ALT + ENTER : Running cell dan membuat cell baru setelahnya\n"
   ]
  },
  {
   "cell_type": "markdown",
   "metadata": {
    "ExecuteTime": {
     "end_time": "2020-02-20T06:59:34.484939Z",
     "start_time": "2020-02-20T06:59:34.481981Z"
    }
   },
   "source": [
    "# Numpy Array"
   ]
  },
  {
   "cell_type": "code",
   "execution_count": 2,
   "metadata": {
    "ExecuteTime": {
     "end_time": "2020-02-20T07:17:21.632990Z",
     "start_time": "2020-02-20T07:17:21.462445Z"
    }
   },
   "outputs": [],
   "source": [
    "# Digunakan untuk mengolah sebuah array / list\n",
    "# Array 1 dimensi : Vector --> [1,2,3,4,5,6]\n",
    "# Array 2 dimensi : Matrics --> [[1, 2, 3], ['a', 'b', 'c']]\n",
    "import numpy as np"
   ]
  },
  {
   "cell_type": "code",
   "execution_count": 19,
   "metadata": {
    "ExecuteTime": {
     "end_time": "2020-02-20T07:12:57.730836Z",
     "start_time": "2020-02-20T07:12:57.724832Z"
    }
   },
   "outputs": [
    {
     "name": "stdout",
     "output_type": "stream",
     "text": [
      "[1 2 3 4 5]\n"
     ]
    }
   ],
   "source": [
    "# Mengubah list 1-d menjadi array 1-d (Vector)\n",
    "numbers = [1, 2, 3, 4, 5]\n",
    "arrNumbers = np.array(numbers)\n",
    "print(arrNumbers)"
   ]
  },
  {
   "cell_type": "code",
   "execution_count": 24,
   "metadata": {
    "ExecuteTime": {
     "end_time": "2020-02-20T07:14:08.851915Z",
     "start_time": "2020-02-20T07:14:08.846935Z"
    }
   },
   "outputs": [
    {
     "name": "stdout",
     "output_type": "stream",
     "text": [
      "[[1 2 3]\n",
      " [4 5 6]\n",
      " [7 8 9]]\n"
     ]
    }
   ],
   "source": [
    "# Mengubah list 2-d menjadi array 2-d (Matrics)\n",
    "numbers = [[1,2,3], [4, 5,6], [7,8,9]]\n",
    "arrNumbers = np.array(numbers)\n",
    "print(arrNumbers)"
   ]
  },
  {
   "cell_type": "markdown",
   "metadata": {},
   "source": [
    "> arange"
   ]
  },
  {
   "cell_type": "code",
   "execution_count": 3,
   "metadata": {
    "ExecuteTime": {
     "end_time": "2020-02-20T07:17:24.084778Z",
     "start_time": "2020-02-20T07:17:24.076680Z"
    }
   },
   "outputs": [
    {
     "name": "stdout",
     "output_type": "stream",
     "text": [
      "[0 1 2 3 4 5 6 7 8 9]\n"
     ]
    }
   ],
   "source": [
    "# Membuat sebuah array  0 - 9\n",
    "arrRange = np.arange(10)\n",
    "print(arrRange)"
   ]
  },
  {
   "cell_type": "code",
   "execution_count": 4,
   "metadata": {
    "ExecuteTime": {
     "end_time": "2020-02-20T07:18:17.745848Z",
     "start_time": "2020-02-20T07:18:17.739949Z"
    }
   },
   "outputs": [
    {
     "name": "stdout",
     "output_type": "stream",
     "text": [
      "[ 1  2  3  4  5  6  7  8  9 10]\n"
     ]
    }
   ],
   "source": [
    "# Membuat sebuah array  1 - 10 \n",
    "arrRange = np.arange(1, 11)\n",
    "print(arrRange)"
   ]
  },
  {
   "cell_type": "code",
   "execution_count": 5,
   "metadata": {
    "ExecuteTime": {
     "end_time": "2020-02-20T07:20:27.202143Z",
     "start_time": "2020-02-20T07:20:27.197548Z"
    }
   },
   "outputs": [
    {
     "name": "stdout",
     "output_type": "stream",
     "text": [
      "[ 0  2  4  6  8 10]\n"
     ]
    }
   ],
   "source": [
    "# Membuat sebuah array nilai genap 0 - 10\n",
    "arrRange = np.arange(0,11,2)\n",
    "print(arrRange)"
   ]
  },
  {
   "cell_type": "code",
   "execution_count": 7,
   "metadata": {
    "ExecuteTime": {
     "end_time": "2020-02-20T07:23:35.360813Z",
     "start_time": "2020-02-20T07:23:35.354856Z"
    }
   },
   "outputs": [
    {
     "name": "stdout",
     "output_type": "stream",
     "text": [
      "[10  9  8  7  6  5  4  3  2  1]\n",
      "[10  8  6  4  2]\n"
     ]
    }
   ],
   "source": [
    "arrRange = np.arange(10,0,-1)\n",
    "print(arrRange) # [10  9  8  7  6  5  4  3  2  1]\n",
    "\n",
    "arrRange = np.arange(10,0,-2)\n",
    "print(arrRange) # [10  8  6  4  2]"
   ]
  },
  {
   "cell_type": "markdown",
   "metadata": {},
   "source": [
    "> linspace"
   ]
  },
  {
   "cell_type": "code",
   "execution_count": 10,
   "metadata": {
    "ExecuteTime": {
     "end_time": "2020-02-20T07:27:40.161189Z",
     "start_time": "2020-02-20T07:27:40.157300Z"
    }
   },
   "outputs": [
    {
     "name": "stdout",
     "output_type": "stream",
     "text": [
      "[ 0. 10.]\n"
     ]
    }
   ],
   "source": [
    "# Dari 0 - 10, sebanyak 2 angka\n",
    "arrLin = np.linspace(0,10,2)\n",
    "print(arrLin)"
   ]
  },
  {
   "cell_type": "code",
   "execution_count": 8,
   "metadata": {
    "ExecuteTime": {
     "end_time": "2020-02-20T07:27:05.898051Z",
     "start_time": "2020-02-20T07:27:05.892977Z"
    }
   },
   "outputs": [
    {
     "name": "stdout",
     "output_type": "stream",
     "text": [
      "[ 0.   2.5  5.   7.5 10. ]\n"
     ]
    }
   ],
   "source": [
    "# Dari 0 - 10, sebanyak 5 angka\n",
    "arrLin = np.linspace(0,10,5)\n",
    "print(arrLin)"
   ]
  },
  {
   "cell_type": "code",
   "execution_count": 14,
   "metadata": {
    "ExecuteTime": {
     "end_time": "2020-02-20T07:32:14.490678Z",
     "start_time": "2020-02-20T07:32:14.485662Z"
    }
   },
   "outputs": [
    {
     "name": "stdout",
     "output_type": "stream",
     "text": [
      "[ 1.  2.  3.  4.  5.  6.  7.  8.  9. 10.]\n"
     ]
    }
   ],
   "source": [
    "# Dari 0 - 10, sebanyak 10 angka\n",
    "arrLin = np.linspace(1,10,10)\n",
    "print(arrLin)"
   ]
  },
  {
   "cell_type": "markdown",
   "metadata": {},
   "source": [
    "random.randint"
   ]
  },
  {
   "cell_type": "code",
   "execution_count": 82,
   "metadata": {
    "ExecuteTime": {
     "end_time": "2020-02-20T07:45:19.690739Z",
     "start_time": "2020-02-20T07:45:19.686716Z"
    }
   },
   "outputs": [
    {
     "name": "stdout",
     "output_type": "stream",
     "text": [
      "9\n"
     ]
    }
   ],
   "source": [
    "# Random integer dari 1 - 10, sebanyak 1 data\n",
    "randInt = np.random.randint(1, 11)\n",
    "print(randInt)"
   ]
  },
  {
   "cell_type": "code",
   "execution_count": 102,
   "metadata": {
    "ExecuteTime": {
     "end_time": "2020-02-20T07:46:35.735034Z",
     "start_time": "2020-02-20T07:46:35.731048Z"
    }
   },
   "outputs": [
    {
     "name": "stdout",
     "output_type": "stream",
     "text": [
      "[10  5  6  1 10  8  9]\n"
     ]
    }
   ],
   "source": [
    "# Random integer dari 1 - 10, sebanyak 7 data\n",
    "randInt = np.random.randint(1,11,7)\n",
    "print(randInt)"
   ]
  },
  {
   "cell_type": "markdown",
   "metadata": {},
   "source": [
    "> shape and reshape"
   ]
  },
  {
   "cell_type": "code",
   "execution_count": 144,
   "metadata": {
    "ExecuteTime": {
     "end_time": "2020-02-20T08:14:47.159057Z",
     "start_time": "2020-02-20T08:14:47.154878Z"
    }
   },
   "outputs": [
    {
     "name": "stdout",
     "output_type": "stream",
     "text": [
      "[1 2 3 4 5 6]\n",
      "(6,)\n"
     ]
    }
   ],
   "source": [
    "# shape digunakan untuk melihat  bentuk array\n",
    "arrRange = np.arange(1,7)\n",
    "print(arrRange)\n",
    "print(arrRange.shape)"
   ]
  },
  {
   "cell_type": "code",
   "execution_count": 145,
   "metadata": {
    "ExecuteTime": {
     "end_time": "2020-02-20T08:14:47.881383Z",
     "start_time": "2020-02-20T08:14:47.875400Z"
    }
   },
   "outputs": [
    {
     "name": "stdout",
     "output_type": "stream",
     "text": [
      "[[1 2 3]\n",
      " [4 5 6]]\n"
     ]
    }
   ],
   "source": [
    "# reshape digunakan untuk mengubah bentu array\n",
    "# reshape(2, 3) --> Mengubah bentuk menjadi 2 baris 3 kolom\n",
    "arrRange = arrRange.reshape(2, 3)\n",
    "print(arrRange)"
   ]
  },
  {
   "cell_type": "code",
   "execution_count": 148,
   "metadata": {
    "ExecuteTime": {
     "end_time": "2020-02-20T08:14:57.666808Z",
     "start_time": "2020-02-20T08:14:57.660169Z"
    }
   },
   "outputs": [
    {
     "name": "stdout",
     "output_type": "stream",
     "text": [
      "[[1 2]\n",
      " [3 4]\n",
      " [5 6]]\n"
     ]
    }
   ],
   "source": [
    "# reshape 3 baris 2 kolom\n",
    "arrRange = arrRange.reshape(3, 2)\n",
    "print(arrRange)"
   ]
  },
  {
   "cell_type": "code",
   "execution_count": 150,
   "metadata": {
    "ExecuteTime": {
     "end_time": "2020-02-20T08:15:10.464648Z",
     "start_time": "2020-02-20T08:15:10.460824Z"
    }
   },
   "outputs": [
    {
     "name": "stdout",
     "output_type": "stream",
     "text": [
      "[1 2 3 4 5 6]\n"
     ]
    }
   ],
   "source": [
    "arrRange = arrRange.reshape(6)\n",
    "print(arrRange)"
   ]
  },
  {
   "cell_type": "markdown",
   "metadata": {},
   "source": [
    "> max() and min()"
   ]
  },
  {
   "cell_type": "code",
   "execution_count": 122,
   "metadata": {
    "ExecuteTime": {
     "end_time": "2020-02-20T08:00:56.409800Z",
     "start_time": "2020-02-20T08:00:56.405950Z"
    }
   },
   "outputs": [
    {
     "name": "stdout",
     "output_type": "stream",
     "text": [
      "[13 11 16 25 39 12 47 30 22 44]\n"
     ]
    }
   ],
   "source": [
    "# Random dari 0 - 49, sebanyak 10 data\n",
    "arrInt = np.random.randint(0, 50, 10)\n",
    "print(arrInt)"
   ]
  },
  {
   "cell_type": "code",
   "execution_count": 123,
   "metadata": {
    "ExecuteTime": {
     "end_time": "2020-02-20T08:01:46.950132Z",
     "start_time": "2020-02-20T08:01:46.945145Z"
    }
   },
   "outputs": [
    {
     "name": "stdout",
     "output_type": "stream",
     "text": [
      "47\n"
     ]
    }
   ],
   "source": [
    "maxInt = arrInt.max()\n",
    "print(maxInt)"
   ]
  },
  {
   "cell_type": "code",
   "execution_count": 125,
   "metadata": {
    "ExecuteTime": {
     "end_time": "2020-02-20T08:02:39.980456Z",
     "start_time": "2020-02-20T08:02:39.971448Z"
    }
   },
   "outputs": [
    {
     "data": {
      "text/plain": [
       "11"
      ]
     },
     "execution_count": 125,
     "metadata": {},
     "output_type": "execute_result"
    }
   ],
   "source": [
    "arrInt.min()"
   ]
  },
  {
   "cell_type": "code",
   "execution_count": 130,
   "metadata": {
    "ExecuteTime": {
     "end_time": "2020-02-20T08:05:49.996118Z",
     "start_time": "2020-02-20T08:05:49.992100Z"
    }
   },
   "outputs": [
    {
     "name": "stdout",
     "output_type": "stream",
     "text": [
      "[[ 1  2  3  4  5]\n",
      " [ 6  7  8  9 10]\n",
      " [11 12 13 14 15]\n",
      " [16 17 18 19 20]\n",
      " [21 22 23 24 25]]\n"
     ]
    }
   ],
   "source": [
    "arrRange = np.arange(1,26)\n",
    "arrRange = arrRange.reshape(5,5)\n",
    "print(arrRange)"
   ]
  },
  {
   "cell_type": "code",
   "execution_count": 133,
   "metadata": {
    "ExecuteTime": {
     "end_time": "2020-02-20T08:07:03.793302Z",
     "start_time": "2020-02-20T08:07:03.789518Z"
    }
   },
   "outputs": [
    {
     "name": "stdout",
     "output_type": "stream",
     "text": [
      "Nilai Max : 25\n",
      "Nilai Min : 1\n"
     ]
    }
   ],
   "source": [
    "print('Nilai Max :',arrRange.max())\n",
    "print('Nilai Min :',arrRange.min())"
   ]
  },
  {
   "cell_type": "code",
   "execution_count": 135,
   "metadata": {
    "ExecuteTime": {
     "end_time": "2020-02-20T08:08:16.001379Z",
     "start_time": "2020-02-20T08:08:15.997441Z"
    }
   },
   "outputs": [
    {
     "name": "stdout",
     "output_type": "stream",
     "text": [
      "[[ 1  2  3  4  5]\n",
      " [ 6  7  8  9 10]\n",
      " [11 12 13 14 15]\n",
      " [16 17 18 19 20]\n",
      " [21 22 23 24 25]]\n"
     ]
    }
   ],
   "source": [
    "print(arrRange)"
   ]
  },
  {
   "cell_type": "code",
   "execution_count": 142,
   "metadata": {
    "ExecuteTime": {
     "end_time": "2020-02-20T08:11:43.728858Z",
     "start_time": "2020-02-20T08:11:43.724837Z"
    }
   },
   "outputs": [
    {
     "name": "stdout",
     "output_type": "stream",
     "text": [
      "[ 6  7  8  9 10]\n",
      "[21 22 23 24 25]\n",
      "Nilai max untuk baris kedua : 10\n",
      "Nilai min untuk baris terakhir : 6\n"
     ]
    }
   ],
   "source": [
    "print(arrRange[1])\n",
    "print(arrRange[-1])\n",
    "print(f'Nilai max untuk baris kedua : {arrRange[1].max()}')\n",
    "print(f'Nilai min untuk baris terakhir : {arrRange[1].min()}')"
   ]
  },
  {
   "cell_type": "code",
   "execution_count": 153,
   "metadata": {
    "ExecuteTime": {
     "end_time": "2020-02-20T08:17:27.783695Z",
     "start_time": "2020-02-20T08:17:27.779610Z"
    }
   },
   "outputs": [],
   "source": [
    "from numpy.random import randint"
   ]
  },
  {
   "cell_type": "code",
   "execution_count": 154,
   "metadata": {
    "ExecuteTime": {
     "end_time": "2020-02-20T08:17:28.446967Z",
     "start_time": "2020-02-20T08:17:28.438943Z"
    }
   },
   "outputs": [
    {
     "data": {
      "text/plain": [
       "6"
      ]
     },
     "execution_count": 154,
     "metadata": {},
     "output_type": "execute_result"
    }
   ],
   "source": [
    "randint(2, 10)"
   ]
  },
  {
   "cell_type": "code",
   "execution_count": null,
   "metadata": {},
   "outputs": [],
   "source": []
  },
  {
   "cell_type": "code",
   "execution_count": null,
   "metadata": {},
   "outputs": [],
   "source": []
  },
  {
   "cell_type": "code",
   "execution_count": null,
   "metadata": {},
   "outputs": [],
   "source": []
  },
  {
   "cell_type": "code",
   "execution_count": null,
   "metadata": {},
   "outputs": [],
   "source": []
  },
  {
   "cell_type": "code",
   "execution_count": null,
   "metadata": {},
   "outputs": [],
   "source": []
  },
  {
   "cell_type": "code",
   "execution_count": null,
   "metadata": {},
   "outputs": [],
   "source": []
  }
 ],
 "metadata": {
  "kernelspec": {
   "display_name": "Python 3",
   "language": "python",
   "name": "python3"
  },
  "language_info": {
   "codemirror_mode": {
    "name": "ipython",
    "version": 3
   },
   "file_extension": ".py",
   "mimetype": "text/x-python",
   "name": "python",
   "nbconvert_exporter": "python",
   "pygments_lexer": "ipython3",
   "version": "3.7.4"
  }
 },
 "nbformat": 4,
 "nbformat_minor": 2
}
