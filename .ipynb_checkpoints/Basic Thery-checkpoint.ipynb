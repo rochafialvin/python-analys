{
 "cells": [
  {
   "cell_type": "markdown",
   "metadata": {},
   "source": [
    "# Data"
   ]
  },
  {
   "cell_type": "markdown",
   "metadata": {},
   "source": [
    "## Qualitative Data (Categorical)"
   ]
  },
  {
   "cell_type": "markdown",
   "metadata": {},
   "source": [
    "Data **naratif** atau **deskriptif** yang menejelaskan **kualitas suatu kondisi**. kondisi ini tidak mudah untuk di ukur dengan angka."
   ]
  },
  {
   "cell_type": "markdown",
   "metadata": {},
   "source": [
    "### Nominal Data"
   ]
  },
  {
   "cell_type": "markdown",
   "metadata": {},
   "source": [
    "Data yang **tidak memiliki urutan**, seperti:\n",
    "- Jenis kelamin\n",
    "- Jenis Bunga\n",
    "- Warna"
   ]
  },
  {
   "cell_type": "markdown",
   "metadata": {},
   "source": [
    "### Binary Data"
   ]
  },
  {
   "cell_type": "markdown",
   "metadata": {},
   "source": [
    "Data Nominal yang **hanya memiliki dua kategori**, seperti:\n",
    "- Jenis Kelamin (pria / wanita)\n",
    "- Kondisi (sehat / sakit)\n",
    "- Status (ya / tidak)"
   ]
  },
  {
   "cell_type": "markdown",
   "metadata": {},
   "source": [
    "### Ordinal Data"
   ]
  },
  {
   "cell_type": "markdown",
   "metadata": {},
   "source": [
    "Data yang **memiliki urutan**, seperti:\n",
    "- Jenjang pendidikan (sd - smp - sma - kuliah)\n",
    "- Ratting (Amazing - Good - Average - Bad)"
   ]
  },
  {
   "cell_type": "markdown",
   "metadata": {},
   "source": [
    "## Quantitative Data (Numerical)"
   ]
  },
  {
   "cell_type": "markdown",
   "metadata": {},
   "source": [
    "Seuatu jenis data yang **dapat di ukur** atau dihitung.\n",
    "\n",
    "Contoh :\n",
    "- Data jumlah siswa dalam satu kelas\n",
    "- Data tinggi dari setiap siswa\n",
    "- Data kunjungan wisata suatu provinsi"
   ]
  },
  {
   "cell_type": "markdown",
   "metadata": {
    "heading_collapsed": true
   },
   "source": [
    "### Discrete Data"
   ]
  },
  {
   "cell_type": "markdown",
   "metadata": {
    "hidden": true
   },
   "source": [
    "Data yang **memiliki batasan** nilai yang disimpan:\n",
    "- Jumlah angka pada dadu\n",
    "- Jumlah hari pada satu minggu\n",
    "- Jumlah murid dalam satu kelas"
   ]
  },
  {
   "cell_type": "markdown",
   "metadata": {
    "heading_collapsed": true
   },
   "source": [
    "### Continuous Data"
   ]
  },
  {
   "cell_type": "markdown",
   "metadata": {
    "hidden": true
   },
   "source": [
    "Data yang tidak dapat memiliki batasan :\n",
    "- Jumlah costumer bank\n",
    "- Curah hujan\n",
    "- Jumlah penduduk suatu negara"
   ]
  },
  {
   "cell_type": "code",
   "execution_count": null,
   "metadata": {
    "hidden": true
   },
   "outputs": [],
   "source": []
  },
  {
   "cell_type": "code",
   "execution_count": null,
   "metadata": {
    "hidden": true
   },
   "outputs": [],
   "source": []
  },
  {
   "cell_type": "code",
   "execution_count": null,
   "metadata": {
    "hidden": true
   },
   "outputs": [],
   "source": []
  }
 ],
 "metadata": {
  "kernelspec": {
   "display_name": "Python 3",
   "language": "python",
   "name": "python3"
  },
  "language_info": {
   "codemirror_mode": {
    "name": "ipython",
    "version": 3
   },
   "file_extension": ".py",
   "mimetype": "text/x-python",
   "name": "python",
   "nbconvert_exporter": "python",
   "pygments_lexer": "ipython3",
   "version": "3.7.4"
  }
 },
 "nbformat": 4,
 "nbformat_minor": 2
}
