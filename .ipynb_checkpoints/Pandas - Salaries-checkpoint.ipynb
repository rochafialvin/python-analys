{
 "cells": [
  {
   "cell_type": "code",
   "execution_count": 1,
   "metadata": {
    "ExecuteTime": {
     "end_time": "2020-02-27T00:45:41.950776Z",
     "start_time": "2020-02-27T00:45:41.279785Z"
    }
   },
   "outputs": [],
   "source": [
    "import pandas as pd"
   ]
  },
  {
   "cell_type": "code",
   "execution_count": 5,
   "metadata": {
    "ExecuteTime": {
     "end_time": "2020-02-27T00:54:13.206945Z",
     "start_time": "2020-02-27T00:54:12.912999Z"
    },
    "scrolled": true
   },
   "outputs": [],
   "source": [
    "dfSal = pd.read_csv('./Salaries-fixed.csv')"
   ]
  },
  {
   "cell_type": "code",
   "execution_count": 6,
   "metadata": {
    "ExecuteTime": {
     "end_time": "2020-02-27T00:54:25.212226Z",
     "start_time": "2020-02-27T00:54:25.190728Z"
    }
   },
   "outputs": [
    {
     "data": {
      "text/html": [
       "<div>\n",
       "<style scoped>\n",
       "    .dataframe tbody tr th:only-of-type {\n",
       "        vertical-align: middle;\n",
       "    }\n",
       "\n",
       "    .dataframe tbody tr th {\n",
       "        vertical-align: top;\n",
       "    }\n",
       "\n",
       "    .dataframe thead th {\n",
       "        text-align: right;\n",
       "    }\n",
       "</style>\n",
       "<table border=\"1\" class=\"dataframe\">\n",
       "  <thead>\n",
       "    <tr style=\"text-align: right;\">\n",
       "      <th></th>\n",
       "      <th>Id</th>\n",
       "      <th>EmployeeName</th>\n",
       "      <th>JobTitle</th>\n",
       "      <th>BasePay</th>\n",
       "      <th>OvertimePay</th>\n",
       "      <th>OtherPay</th>\n",
       "      <th>Benefits</th>\n",
       "      <th>TotalPay</th>\n",
       "      <th>TotalPayBenefits</th>\n",
       "      <th>Year</th>\n",
       "      <th>Notes</th>\n",
       "      <th>Agency</th>\n",
       "      <th>Status</th>\n",
       "      <th>title_len</th>\n",
       "    </tr>\n",
       "  </thead>\n",
       "  <tbody>\n",
       "    <tr>\n",
       "      <td>0</td>\n",
       "      <td>1</td>\n",
       "      <td>NATHANIEL FORD</td>\n",
       "      <td>GENERAL MANAGER-METROPOLITAN TRANSIT AUTHORITY</td>\n",
       "      <td>167411.18</td>\n",
       "      <td>0.00</td>\n",
       "      <td>400184</td>\n",
       "      <td>NaN</td>\n",
       "      <td>567595.43</td>\n",
       "      <td>567595.43</td>\n",
       "      <td>2011</td>\n",
       "      <td>NaN</td>\n",
       "      <td>San Francisco</td>\n",
       "      <td>NaN</td>\n",
       "      <td>46</td>\n",
       "    </tr>\n",
       "    <tr>\n",
       "      <td>1</td>\n",
       "      <td>2</td>\n",
       "      <td>GARY JIMENEZ</td>\n",
       "      <td>CAPTAIN III (POLICE DEPARTMENT)</td>\n",
       "      <td>155966.02</td>\n",
       "      <td>245131.88</td>\n",
       "      <td>137811</td>\n",
       "      <td>NaN</td>\n",
       "      <td>538909.28</td>\n",
       "      <td>538909.28</td>\n",
       "      <td>2011</td>\n",
       "      <td>NaN</td>\n",
       "      <td>San Francisco</td>\n",
       "      <td>NaN</td>\n",
       "      <td>31</td>\n",
       "    </tr>\n",
       "    <tr>\n",
       "      <td>2</td>\n",
       "      <td>3</td>\n",
       "      <td>ALBERT PARDINI</td>\n",
       "      <td>CAPTAIN III (POLICE DEPARTMENT)</td>\n",
       "      <td>212739.13</td>\n",
       "      <td>106088.18</td>\n",
       "      <td>16452.6</td>\n",
       "      <td>NaN</td>\n",
       "      <td>335279.91</td>\n",
       "      <td>335279.91</td>\n",
       "      <td>2011</td>\n",
       "      <td>NaN</td>\n",
       "      <td>San Francisco</td>\n",
       "      <td>NaN</td>\n",
       "      <td>31</td>\n",
       "    </tr>\n",
       "    <tr>\n",
       "      <td>3</td>\n",
       "      <td>4</td>\n",
       "      <td>CHRISTOPHER CHONG</td>\n",
       "      <td>WIRE ROPE CABLE MAINTENANCE MECHANIC</td>\n",
       "      <td>77916.00</td>\n",
       "      <td>56120.71</td>\n",
       "      <td>198307</td>\n",
       "      <td>NaN</td>\n",
       "      <td>332343.61</td>\n",
       "      <td>332343.61</td>\n",
       "      <td>2011</td>\n",
       "      <td>NaN</td>\n",
       "      <td>San Francisco</td>\n",
       "      <td>NaN</td>\n",
       "      <td>36</td>\n",
       "    </tr>\n",
       "    <tr>\n",
       "      <td>4</td>\n",
       "      <td>5</td>\n",
       "      <td>PATRICK GARDNER</td>\n",
       "      <td>DEPUTY CHIEF OF DEPARTMENT,(FIRE DEPARTMENT)</td>\n",
       "      <td>134401.60</td>\n",
       "      <td>9737.00</td>\n",
       "      <td>182235</td>\n",
       "      <td>NaN</td>\n",
       "      <td>326373.19</td>\n",
       "      <td>326373.19</td>\n",
       "      <td>2011</td>\n",
       "      <td>NaN</td>\n",
       "      <td>San Francisco</td>\n",
       "      <td>NaN</td>\n",
       "      <td>44</td>\n",
       "    </tr>\n",
       "  </tbody>\n",
       "</table>\n",
       "</div>"
      ],
      "text/plain": [
       "   Id       EmployeeName                                        JobTitle  \\\n",
       "0   1     NATHANIEL FORD  GENERAL MANAGER-METROPOLITAN TRANSIT AUTHORITY   \n",
       "1   2       GARY JIMENEZ                 CAPTAIN III (POLICE DEPARTMENT)   \n",
       "2   3     ALBERT PARDINI                 CAPTAIN III (POLICE DEPARTMENT)   \n",
       "3   4  CHRISTOPHER CHONG            WIRE ROPE CABLE MAINTENANCE MECHANIC   \n",
       "4   5    PATRICK GARDNER    DEPUTY CHIEF OF DEPARTMENT,(FIRE DEPARTMENT)   \n",
       "\n",
       "     BasePay  OvertimePay OtherPay Benefits   TotalPay  TotalPayBenefits  \\\n",
       "0  167411.18         0.00   400184      NaN  567595.43         567595.43   \n",
       "1  155966.02    245131.88   137811      NaN  538909.28         538909.28   \n",
       "2  212739.13    106088.18  16452.6      NaN  335279.91         335279.91   \n",
       "3   77916.00     56120.71   198307      NaN  332343.61         332343.61   \n",
       "4  134401.60      9737.00   182235      NaN  326373.19         326373.19   \n",
       "\n",
       "   Year  Notes         Agency Status  title_len  \n",
       "0  2011    NaN  San Francisco    NaN         46  \n",
       "1  2011    NaN  San Francisco    NaN         31  \n",
       "2  2011    NaN  San Francisco    NaN         31  \n",
       "3  2011    NaN  San Francisco    NaN         36  \n",
       "4  2011    NaN  San Francisco    NaN         44  "
      ]
     },
     "execution_count": 6,
     "metadata": {},
     "output_type": "execute_result"
    }
   ],
   "source": [
    "# Melihat 5 data teratas\n",
    "dfSal.head()"
   ]
  },
  {
   "cell_type": "code",
   "execution_count": 7,
   "metadata": {
    "ExecuteTime": {
     "end_time": "2020-02-27T00:56:12.380588Z",
     "start_time": "2020-02-27T00:56:12.333872Z"
    },
    "scrolled": false
   },
   "outputs": [
    {
     "name": "stdout",
     "output_type": "stream",
     "text": [
      "<class 'pandas.core.frame.DataFrame'>\n",
      "RangeIndex: 148654 entries, 0 to 148653\n",
      "Data columns (total 14 columns):\n",
      "Id                  148654 non-null int64\n",
      "EmployeeName        148654 non-null object\n",
      "JobTitle            148654 non-null object\n",
      "BasePay             148049 non-null float64\n",
      "OvertimePay         148654 non-null float64\n",
      "OtherPay            148654 non-null object\n",
      "Benefits            112495 non-null object\n",
      "TotalPay            148654 non-null float64\n",
      "TotalPayBenefits    148654 non-null float64\n",
      "Year                148654 non-null int64\n",
      "Notes               0 non-null float64\n",
      "Agency              148654 non-null object\n",
      "Status              38119 non-null object\n",
      "title_len           148654 non-null int64\n",
      "dtypes: float64(5), int64(3), object(6)\n",
      "memory usage: 15.9+ MB\n"
     ]
    }
   ],
   "source": [
    "# Melihat informasi tentang data frame\n",
    "dfSal.info()"
   ]
  },
  {
   "cell_type": "code",
   "execution_count": 13,
   "metadata": {
    "ExecuteTime": {
     "end_time": "2020-02-27T01:10:14.490612Z",
     "start_time": "2020-02-27T01:10:14.484663Z"
    }
   },
   "outputs": [
    {
     "data": {
      "text/plain": [
       "66323.65685410085"
      ]
     },
     "execution_count": 13,
     "metadata": {},
     "output_type": "execute_result"
    }
   ],
   "source": [
    "# Munculkan rata - rata dari gaji pokok (BasePay)\n"
   ]
  },
  {
   "cell_type": "code",
   "execution_count": 16,
   "metadata": {
    "ExecuteTime": {
     "end_time": "2020-02-27T01:11:38.697346Z",
     "start_time": "2020-02-27T01:11:38.691011Z"
    }
   },
   "outputs": [
    {
     "data": {
      "text/plain": [
       "245131.88"
      ]
     },
     "execution_count": 16,
     "metadata": {},
     "output_type": "execute_result"
    }
   ],
   "source": [
    "# Berapakah gaji lembur tertinggi (OvertimePay)\n"
   ]
  },
  {
   "cell_type": "code",
   "execution_count": 17,
   "metadata": {
    "ExecuteTime": {
     "end_time": "2020-02-27T01:11:57.512771Z",
     "start_time": "2020-02-27T01:11:57.492079Z"
    }
   },
   "outputs": [
    {
     "data": {
      "text/plain": [
       "24    CAPTAIN, FIRE SUPPRESSION\n",
       "Name: JobTitle, dtype: object"
      ]
     },
     "execution_count": 17,
     "metadata": {},
     "output_type": "execute_result"
    }
   ],
   "source": [
    "# Apa job title dari JOSEPH DRISCOLL ?\n",
    "# Note : Terdapat data yang memiliki nama Joseph Driscoll (huruf kecil)\n"
   ]
  },
  {
   "cell_type": "code",
   "execution_count": 18,
   "metadata": {
    "ExecuteTime": {
     "end_time": "2020-02-27T01:14:11.265714Z",
     "start_time": "2020-02-27T01:14:11.245907Z"
    }
   },
   "outputs": [
    {
     "data": {
      "text/plain": [
       "24    270324.91\n",
       "Name: TotalPayBenefits, dtype: float64"
      ]
     },
     "execution_count": 18,
     "metadata": {},
     "output_type": "execute_result"
    }
   ],
   "source": [
    "# Berapakah total pendapatan (TotalPayBenefits) dari JOSEPH DRISCOLL ?\n"
   ]
  },
  {
   "cell_type": "code",
   "execution_count": 21,
   "metadata": {
    "ExecuteTime": {
     "end_time": "2020-02-27T01:18:33.258985Z",
     "start_time": "2020-02-27T01:18:33.247846Z"
    }
   },
   "outputs": [
    {
     "name": "stdout",
     "output_type": "stream",
     "text": [
      "NATHANIEL FORD dengan pendapatan 567595.43\n"
     ]
    }
   ],
   "source": [
    "# Siapakah yang memiliki total pendapatan tertinggi ?\n"
   ]
  },
  {
   "cell_type": "code",
   "execution_count": 22,
   "metadata": {
    "ExecuteTime": {
     "end_time": "2020-02-27T01:19:25.421638Z",
     "start_time": "2020-02-27T01:19:25.412590Z"
    }
   },
   "outputs": [
    {
     "name": "stdout",
     "output_type": "stream",
     "text": [
      "Joe Lopez dengan pendapatan -618.13\n"
     ]
    }
   ],
   "source": [
    "# Siapakah yang memiliki total pendapatan terendah ?\n"
   ]
  },
  {
   "cell_type": "code",
   "execution_count": 23,
   "metadata": {
    "ExecuteTime": {
     "end_time": "2020-02-27T01:19:42.717587Z",
     "start_time": "2020-02-27T01:19:42.671765Z"
    },
    "scrolled": true
   },
   "outputs": [
    {
     "data": {
      "text/html": [
       "<div>\n",
       "<style scoped>\n",
       "    .dataframe tbody tr th:only-of-type {\n",
       "        vertical-align: middle;\n",
       "    }\n",
       "\n",
       "    .dataframe tbody tr th {\n",
       "        vertical-align: top;\n",
       "    }\n",
       "\n",
       "    .dataframe thead th {\n",
       "        text-align: right;\n",
       "    }\n",
       "</style>\n",
       "<table border=\"1\" class=\"dataframe\">\n",
       "  <thead>\n",
       "    <tr style=\"text-align: right;\">\n",
       "      <th></th>\n",
       "      <th>Id</th>\n",
       "      <th>BasePay</th>\n",
       "      <th>OvertimePay</th>\n",
       "      <th>TotalPay</th>\n",
       "      <th>TotalPayBenefits</th>\n",
       "      <th>Notes</th>\n",
       "      <th>title_len</th>\n",
       "    </tr>\n",
       "    <tr>\n",
       "      <th>Year</th>\n",
       "      <th></th>\n",
       "      <th></th>\n",
       "      <th></th>\n",
       "      <th></th>\n",
       "      <th></th>\n",
       "      <th></th>\n",
       "      <th></th>\n",
       "    </tr>\n",
       "  </thead>\n",
       "  <tbody>\n",
       "    <tr>\n",
       "      <td>2011</td>\n",
       "      <td>18080.0</td>\n",
       "      <td>63595.956517</td>\n",
       "      <td>4531.065429</td>\n",
       "      <td>71744.103871</td>\n",
       "      <td>71744.103871</td>\n",
       "      <td>NaN</td>\n",
       "      <td>20.696231</td>\n",
       "    </tr>\n",
       "    <tr>\n",
       "      <td>2012</td>\n",
       "      <td>54542.5</td>\n",
       "      <td>65436.406857</td>\n",
       "      <td>5023.417824</td>\n",
       "      <td>74113.262265</td>\n",
       "      <td>100553.229232</td>\n",
       "      <td>NaN</td>\n",
       "      <td>18.514415</td>\n",
       "    </tr>\n",
       "    <tr>\n",
       "      <td>2013</td>\n",
       "      <td>91728.5</td>\n",
       "      <td>69630.030216</td>\n",
       "      <td>5281.641980</td>\n",
       "      <td>77611.443142</td>\n",
       "      <td>101440.519714</td>\n",
       "      <td>NaN</td>\n",
       "      <td>18.665904</td>\n",
       "    </tr>\n",
       "    <tr>\n",
       "      <td>2014</td>\n",
       "      <td>129593.0</td>\n",
       "      <td>66557.437750</td>\n",
       "      <td>5401.426941</td>\n",
       "      <td>75463.918140</td>\n",
       "      <td>100250.918884</td>\n",
       "      <td>NaN</td>\n",
       "      <td>18.702752</td>\n",
       "    </tr>\n",
       "  </tbody>\n",
       "</table>\n",
       "</div>"
      ],
      "text/plain": [
       "            Id       BasePay  OvertimePay      TotalPay  TotalPayBenefits  \\\n",
       "Year                                                                        \n",
       "2011   18080.0  63595.956517  4531.065429  71744.103871      71744.103871   \n",
       "2012   54542.5  65436.406857  5023.417824  74113.262265     100553.229232   \n",
       "2013   91728.5  69630.030216  5281.641980  77611.443142     101440.519714   \n",
       "2014  129593.0  66557.437750  5401.426941  75463.918140     100250.918884   \n",
       "\n",
       "      Notes  title_len  \n",
       "Year                    \n",
       "2011    NaN  20.696231  \n",
       "2012    NaN  18.514415  \n",
       "2013    NaN  18.665904  \n",
       "2014    NaN  18.702752  "
      ]
     },
     "execution_count": 23,
     "metadata": {},
     "output_type": "execute_result"
    }
   ],
   "source": [
    "# Berpakah rata - rata gaji pokok dari semua karyawan per-tahun ? (2011 - 2014)\n"
   ]
  },
  {
   "cell_type": "code",
   "execution_count": 24,
   "metadata": {
    "ExecuteTime": {
     "end_time": "2020-02-27T01:21:12.631576Z",
     "start_time": "2020-02-27T01:21:12.611630Z"
    }
   },
   "outputs": [
    {
     "data": {
      "text/plain": [
       "2159"
      ]
     },
     "execution_count": 24,
     "metadata": {},
     "output_type": "execute_result"
    }
   ],
   "source": [
    "# Berapa jumlah jenis pekerjaan (Job Title) secara unique ?\n"
   ]
  },
  {
   "cell_type": "code",
   "execution_count": 25,
   "metadata": {
    "ExecuteTime": {
     "end_time": "2020-02-27T01:21:54.370372Z",
     "start_time": "2020-02-27T01:21:54.346853Z"
    }
   },
   "outputs": [
    {
     "data": {
      "text/plain": [
       "Transit Operator                7036\n",
       "Special Nurse                   4389\n",
       "Registered Nurse                3736\n",
       "Public Svc Aide-Public Works    2518\n",
       "Police Officer 3                2421\n",
       "Name: JobTitle, dtype: int64"
      ]
     },
     "execution_count": 25,
     "metadata": {},
     "output_type": "execute_result"
    }
   ],
   "source": [
    "# Munculkan 5 jenis pekerjaan yang paling umum (5 jenis pekerjaan dg karyawan terbanyak)\n"
   ]
  },
  {
   "cell_type": "code",
   "execution_count": 31,
   "metadata": {
    "ExecuteTime": {
     "end_time": "2020-02-27T01:30:28.989883Z",
     "start_time": "2020-02-27T01:30:28.970822Z"
    }
   },
   "outputs": [
    {
     "name": "stdout",
     "output_type": "stream",
     "text": [
      "Terdapat 202 jenis pekerjaan yang hanya di miliki oleh satu orang\n"
     ]
    }
   ],
   "source": [
    "# Berapa banyak jenis pekerjaan yang dimiliki oleh hanya satu orang di tahun 2013\n"
   ]
  },
  {
   "cell_type": "markdown",
   "metadata": {},
   "source": [
    "> Clue untuk soal diatas"
   ]
  },
  {
   "cell_type": "code",
   "execution_count": 30,
   "metadata": {
    "ExecuteTime": {
     "end_time": "2020-02-27T01:29:37.638443Z",
     "start_time": "2020-02-27T01:29:37.633576Z"
    }
   },
   "outputs": [
    {
     "name": "stdout",
     "output_type": "stream",
     "text": [
      "Jumlah True ada 4\n"
     ]
    }
   ],
   "source": [
    "# Clue : list of boolean dapat dilakukan operasi sum, dimana True akan dinilai 1, dan False 0\n",
    "clue = [True, True, True, False, True]\n",
    "totalTrue = sum(clue)\n",
    "print(f'Jumlah True ada {totalTrue}')"
   ]
  },
  {
   "cell_type": "code",
   "execution_count": 32,
   "metadata": {
    "ExecuteTime": {
     "end_time": "2020-02-27T01:34:31.210599Z",
     "start_time": "2020-02-27T01:34:31.163420Z"
    }
   },
   "outputs": [
    {
     "name": "stdout",
     "output_type": "stream",
     "text": [
      "627\n"
     ]
    }
   ],
   "source": [
    "# Berapa banyak orang yang memiliki kata 'Chief' dalam jenis pekerjaan mereka ?\n",
    "# Chief = 423\n",
    "# CHIEF = 204\n",
    "# Total = 627\n",
    "\n"
   ]
  },
  {
   "cell_type": "markdown",
   "metadata": {},
   "source": [
    "> END"
   ]
  }
 ],
 "metadata": {
  "kernelspec": {
   "display_name": "Python 3",
   "language": "python",
   "name": "python3"
  },
  "language_info": {
   "codemirror_mode": {
    "name": "ipython",
    "version": 3
   },
   "file_extension": ".py",
   "mimetype": "text/x-python",
   "name": "python",
   "nbconvert_exporter": "python",
   "pygments_lexer": "ipython3",
   "version": "3.7.4"
  }
 },
 "nbformat": 4,
 "nbformat_minor": 2
}
